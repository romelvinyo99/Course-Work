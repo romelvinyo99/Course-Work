{
 "cells": [
  {
   "cell_type": "code",
   "execution_count": null,
   "id": "84b20113-8728-4e96-b263-e72403150867",
   "metadata": {},
   "outputs": [],
   "source": [
    "# Question 1 --> Counter program\n",
    "def counter(n=int(input(\"Input number: \"))):\n",
    "    if n == 0:\n",
    "        return n\n",
    "    else:\n",
    "        print(n)\n",
    "        return counter(n - 1)\n",
    "\n",
    "\n",
    "print(counter())"
   ]
  },
  {
   "cell_type": "code",
   "execution_count": null,
   "id": "2b00228d-97d2-45dc-88a0-6dba3e43f56a",
   "metadata": {},
   "outputs": [],
   "source": [
    "# Question 2 --> count up\n",
    "def countup(start=int(input(\"Start number: \")), end=int(input(\"End number: \"))):\n",
    "    if start == end:\n",
    "        return end\n",
    "    else:\n",
    "        print(start)\n",
    "        return countup(start + 1, end)\n",
    "\n",
    "\n",
    "print(countup())"
   ]
  },
  {
   "cell_type": "code",
   "execution_count": null,
   "id": "13a8550f-bfe2-440a-9753-d8c64e5d44b3",
   "metadata": {},
   "outputs": [],
   "source": [
    "# Question 3 --> sum of numbers\n",
    "\n",
    "def sumOfNumbers(n=int(input(\"Number: \"))):\n",
    "    if n == 1:\n",
    "        return 1\n",
    "    else:\n",
    "        return n + sumOfNumbers(n - 1)\n",
    "\n",
    "\n",
    "print(sumOfNumbers(3))"
   ]
  },
  {
   "cell_type": "code",
   "execution_count": null,
   "id": "4e1ceae4-f81a-4a38-8495-23aee6b8daaa",
   "metadata": {},
   "outputs": [],
   "source": [
    "# Question 4 --> List array elements\n",
    "\n",
    "def array(a):\n",
    "    n = len(a) - 1\n",
    "    if n == 0:\n",
    "        return a[0]\n",
    "    else:\n",
    "        print(a[n])\n",
    "        a.pop()  \n",
    "        return array(a)  \n",
    "\n",
    "\n",
    "l = [1, 2, 3]\n",
    "print(array(l))\n"
   ]
  },
  {
   "cell_type": "code",
   "execution_count": null,
   "id": "6a8267dd-f29b-462b-bb18-7ae7bf31e737",
   "metadata": {},
   "outputs": [],
   "source": [
    "# Question 5 --\n",
    "\n",
    "def gcd(a=int(input(\"First Number: \")), b=int(input(\"Second Number\"))):\n",
    "    if b == 0:\n",
    "        return a\n",
    "    else:\n",
    "        return gcd(b, a % b)\n",
    "\n",
    "\n",
    "print(gcd())\n"
   ]
  }
 ],
 "metadata": {
  "kernelspec": {
   "display_name": "Python 3 (ipykernel)",
   "language": "python",
   "name": "python3"
  },
  "language_info": {
   "codemirror_mode": {
    "name": "ipython",
    "version": 3
   },
   "file_extension": ".py",
   "mimetype": "text/x-python",
   "name": "python",
   "nbconvert_exporter": "python",
   "pygments_lexer": "ipython3",
   "version": "3.11.7"
  }
 },
 "nbformat": 4,
 "nbformat_minor": 5
}
