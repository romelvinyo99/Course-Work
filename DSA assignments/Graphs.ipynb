{
 "cells": [
  {
   "cell_type": "code",
   "execution_count": null,
   "id": "ed1b88e0-c6fa-4aff-9d70-5fd857769772",
   "metadata": {},
   "outputs": [],
   "source": [
    "GRAPHS LAB EXERCISE\n",
    "\n",
    "def remove_vertex(self, v):\n",
    "\n",
    "    # For undirected graphs, remove v from all its neighbors' adjacency maps\n",
    "    for edge in list(self.incident_edges(v, outgoing=True)):  # Outgoing edges\n",
    "        u = edge.opposite(v)\n",
    "        del self._outgoing[u][v]  # Remove edge from neighbor u's adjacency list\n",
    "        if self.is_directed():\n",
    "            del self._incoming[v][u]  # Also remove from incoming list if directed\n",
    "\n",
    "    # For directed graphs, we also need to remove incoming edges separately\n",
    "    if self.is_directed():\n",
    "        for edge in list(self.incident_edges(v, outgoing=False)):  # Incoming edges\n",
    "            u = edge.opposite(v)\n",
    "            del self._incoming[u][v]  # Remove edge from neighbor u's adjacency list\n",
    "\n",
    "    # Finally, remove the vertex v itself\n",
    "    del self._outgoing[v]  # Remove from outgoing adjacency map\n",
    "    if self.is_directed():\n",
    "        del self._incoming[v]  # Remove from incoming adjacency map if directed\n",
    "\n",
    "\n",
    "\n",
    "def remove_edge(self, e):\n",
    "\n",
    "    u, v = e.endpoints()  # Get the endpoints of the edge\n",
    "\n",
    "    # Remove the edge from the outgoing adjacency map\n",
    "    del self._outgoing[u][v]\n",
    "\n",
    "    # For directed graphs, also remove the edge from the incoming adjacency map\n",
    "    if self.is_directed():\n",
    "        del self._incoming[v][u]"
   ]
  }
 ],
 "metadata": {
  "kernelspec": {
   "display_name": "Python 3 (ipykernel)",
   "language": "python",
   "name": "python3"
  },
  "language_info": {
   "codemirror_mode": {
    "name": "ipython",
    "version": 3
   },
   "file_extension": ".py",
   "mimetype": "text/x-python",
   "name": "python",
   "nbconvert_exporter": "python",
   "pygments_lexer": "ipython3",
   "version": "3.10.14"
  }
 },
 "nbformat": 4,
 "nbformat_minor": 5
}
