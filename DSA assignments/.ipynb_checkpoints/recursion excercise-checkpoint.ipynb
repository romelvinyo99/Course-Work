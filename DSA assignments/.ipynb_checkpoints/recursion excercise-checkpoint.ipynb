{
 "cells": [
  {
   "cell_type": "code",
   "execution_count": null,
   "id": "84b20113-8728-4e96-b263-e72403150867",
   "metadata": {},
   "outputs": [],
   "source": [
    "# Question 1 --> Counter program\n",
    "def counter(n=int(input(\"Input number: \"))):\n",
    "    if n == 0:\n",
    "        return n\n",
    "    else:\n",
    "        print(n)\n",
    "        return counter(n - 1)\n",
    "\n",
    "\n",
    "print(counter())"
   ]
  },
  {
   "cell_type": "code",
   "execution_count": null,
   "id": "2b00228d-97d2-45dc-88a0-6dba3e43f56a",
   "metadata": {},
   "outputs": [],
   "source": [
    "# Question 2 --> count up\n",
    "def countup(start=int(input(\"Start number: \")), end=int(input(\"End number: \"))):\n",
    "    if start == end:\n",
    "        return end\n",
    "    else:\n",
    "        print(start)\n",
    "        return countup(start + 1, end)\n",
    "\n",
    "\n",
    "print(countup())"
   ]
  }
 ],
 "metadata": {
  "kernelspec": {
   "display_name": "Python 3 (ipykernel)",
   "language": "python",
   "name": "python3"
  },
  "language_info": {
   "codemirror_mode": {
    "name": "ipython",
    "version": 3
   },
   "file_extension": ".py",
   "mimetype": "text/x-python",
   "name": "python",
   "nbconvert_exporter": "python",
   "pygments_lexer": "ipython3",
   "version": "3.11.7"
  }
 },
 "nbformat": 4,
 "nbformat_minor": 5
}
