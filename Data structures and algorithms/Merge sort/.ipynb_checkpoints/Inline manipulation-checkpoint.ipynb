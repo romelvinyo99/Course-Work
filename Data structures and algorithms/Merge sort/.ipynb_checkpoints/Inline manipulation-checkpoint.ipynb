{
 "cells": [
  {
   "cell_type": "code",
   "execution_count": null,
   "id": "cc4c6e7e-1a3f-4bd7-bf41-a46c2d8e58a1",
   "metadata": {},
   "outputs": [],
   "source": [
    "\n",
    "# Merge sort of an unsorted array --> Divide and conquer\n",
    "def mergesort(elements):\n",
    "    if len(elements) <= 1:\n",
    "        return\n",
    "\n",
    "    mid = len(elements) // 2\n",
    "    left = elements[:mid]\n",
    "    right = elements[mid:]\n",
    "\n",
    "    mergesort(left)\n",
    "    mergesort(right)\n",
    "\n",
    "    merge_two_sorted_lists(left, right, elements)\n",
    "\n",
    "\n",
    "#  Merging two sorted arrays\n",
    "def merge_two_sorted_lists(list1, list2, elements):\n",
    "    len_list1 = len(list1)\n",
    "    len_list2 = len(list2)\n",
    "    i = j = k = 0\n",
    "\n",
    "    # Comparison of elements\n",
    "    while i < len_list1 and j < len_list2:\n",
    "        if list1[i] <= list2[j]:\n",
    "            elements[k] = list1[i]\n",
    "            i += 1\n",
    "        elif list2[j] <= list1[i]:\n",
    "            elements[k] = list2[j]\n",
    "            j += 1\n",
    "        k += 1\n",
    "\n",
    "    # Adding the remainder of elements after one list has been fully transversed\n",
    "    while i < len(list1):\n",
    "        elements[k] = list1[i]\n",
    "        i += 1\n",
    "        k += 1\n",
    "    while j < len(list2):\n",
    "        elements[k] = list2[j]\n",
    "        j += 1\n",
    "        k += 1\n",
    "\n",
    "\n",
    "if __name__ == \"__main__\":\n",
    "    unsorted_list = [10, 3, 15, 7, 8, 23, 98, 29]\n",
    "    mergesort(unsorted_list)\n",
    "    print(unsorted_list)\n"
   ]
  }
 ],
 "metadata": {
  "kernelspec": {
   "display_name": "Python 3 (ipykernel)",
   "language": "python",
   "name": "python3"
  },
  "language_info": {
   "codemirror_mode": {
    "name": "ipython",
    "version": 3
   },
   "file_extension": ".py",
   "mimetype": "text/x-python",
   "name": "python",
   "nbconvert_exporter": "python",
   "pygments_lexer": "ipython3",
   "version": "3.11.7"
  }
 },
 "nbformat": 4,
 "nbformat_minor": 5
}
