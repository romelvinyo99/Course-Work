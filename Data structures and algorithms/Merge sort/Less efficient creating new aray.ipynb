{
 "cells": [
  {
   "cell_type": "code",
   "execution_count": null,
   "id": "c3b8a8c9-9d8e-4f5c-b3f5-a5cc533466df",
   "metadata": {},
   "outputs": [],
   "source": [
    "\n",
    "# Merge sort of an unsorted array --> Divide and conquer\n",
    "def mergesort(elements):\n",
    "    if len(elements) <= 1:\n",
    "        return elements\n",
    "\n",
    "    mid = len(elements) // 2\n",
    "    left = elements[:mid]\n",
    "    right = elements[mid:]\n",
    "\n",
    "    left = mergesort(left)\n",
    "    right = mergesort(right)\n",
    "\n",
    "    return merge_two_sorted_lists(left, right)\n",
    "\n",
    "\n",
    "#  Merging two sorted arrays\n",
    "def merge_two_sorted_lists(list1, list2):\n",
    "    sorted_list = []\n",
    "    len_list1 = len(list1)\n",
    "    len_list2 = len(list2)\n",
    "    i = j = 0\n",
    "\n",
    "    # Comparison of elements\n",
    "    while i < len_list1 and j < len_list2:\n",
    "        if list1[i] <= list2[j]:\n",
    "            sorted_list.append(list1[i])\n",
    "            i += 1\n",
    "        elif list2[j] <= list1[i]:\n",
    "            sorted_list.append(list2[j])\n",
    "            j += 1\n",
    "\n",
    "    # Adding the remainder of elements after one list has been fully transversed\n",
    "    while i < len(list1):\n",
    "        sorted_list.append(list1[i])\n",
    "        i += 1\n",
    "    while j < len(list2):\n",
    "        sorted_list.append(list2[j])\n",
    "        j += 1\n",
    "\n",
    "    return sorted_list\n",
    "\n",
    "\n",
    "if __name__ == \"__main__\":\n",
    "    a = [5, 8, 12, 56]\n",
    "    b = [7, 9, 45, 51]\n",
    "    print(merge_two_sorted_lists(a, b))\n",
    "    unsorted_list = [10, 3, 15, 7, 8, 23, 98, 29]\n",
    "    print(mergesort(unsorted_list))\n"
   ]
  }
 ],
 "metadata": {
  "kernelspec": {
   "display_name": "Python 3 (ipykernel)",
   "language": "python",
   "name": "python3"
  },
  "language_info": {
   "codemirror_mode": {
    "name": "ipython",
    "version": 3
   },
   "file_extension": ".py",
   "mimetype": "text/x-python",
   "name": "python",
   "nbconvert_exporter": "python",
   "pygments_lexer": "ipython3",
   "version": "3.11.7"
  }
 },
 "nbformat": 4,
 "nbformat_minor": 5
}
