{
 "cells": [
  {
   "cell_type": "code",
   "execution_count": null,
   "id": "77b4c495-ec8f-415a-a72c-aa536902c1c7",
   "metadata": {},
   "outputs": [],
   "source": [
    "def insertionSort(elements):\n",
    "    for i in range(0, len(elements) - 1):\n",
    "        anchor = elements[i]\n",
    "        j = i - 1\n",
    "        while j >= 0 and anchor < elements[j]:\n",
    "            elements[j + 1] = elements[j]\n",
    "            j -= 1\n",
    "        elements[j + 1] = anchor\n",
    "\n",
    "\n",
    "if __name__ == \"__main__\":\n",
    "    a = [11, 9, 29, 7, 2, 15, 28]\n",
    "    insertionSort(a)\n",
    "    print(a)\n"
   ]
  }
 ],
 "metadata": {
  "kernelspec": {
   "display_name": "Python 3 (ipykernel)",
   "language": "python",
   "name": "python3"
  },
  "language_info": {
   "codemirror_mode": {
    "name": "ipython",
    "version": 3
   },
   "file_extension": ".py",
   "mimetype": "text/x-python",
   "name": "python",
   "nbconvert_exporter": "python",
   "pygments_lexer": "ipython3",
   "version": "3.11.7"
  }
 },
 "nbformat": 4,
 "nbformat_minor": 5
}
