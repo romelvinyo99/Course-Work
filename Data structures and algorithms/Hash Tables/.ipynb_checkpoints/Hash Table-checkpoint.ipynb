{
 "cells": [
  {
   "cell_type": "raw",
   "id": "b548bad6-3354-4a53-83c0-4481905b479f",
   "metadata": {},
   "source": [
    "Accessing values from the csv file given"
   ]
  },
  {
   "cell_type": "code",
   "execution_count": 3,
   "id": "61e6ec5a-2205-4dfc-85d5-2034a6590164",
   "metadata": {},
   "outputs": [
    {
     "name": "stdout",
     "output_type": "stream",
     "text": [
      "302.0\n"
     ]
    }
   ],
   "source": [
    "#Lists/Arrays\n",
    "\n",
    "stock_prices = []\n",
    "\n",
    "with open(\"stock_prices.csv\", \"r\") as f:\n",
    "    for line in f:\n",
    "        tokens = line.split(\",\")\n",
    "        date = tokens[0]\n",
    "        price = float(tokens[1])\n",
    "        stock_prices.append([date, price])\n",
    "\n",
    "for date, price in stock_prices:\n",
    "    if date == \"march 9\":\n",
    "        print(price)"
   ]
  },
  {
   "cell_type": "code",
   "execution_count": 6,
   "id": "3bf24f4b-a39d-4ca7-a700-395b3c4c2963",
   "metadata": {},
   "outputs": [
    {
     "name": "stdout",
     "output_type": "stream",
     "text": [
      "{'march 6': 310.0, 'march 7': 340.0, 'march 8': 380.0, 'march 9': 302.0, 'march 10': 297.0, 'march 11': 323.0}\n",
      "302.0\n"
     ]
    }
   ],
   "source": [
    "#Dictionaries\n",
    "\n",
    "stock_prices = {}\n",
    "\n",
    "with open(\"stock_prices.csv\", \"r\") as f:\n",
    "    for line in f:\n",
    "        tokens = line.split(\",\")\n",
    "        date = tokens[0]\n",
    "        price = float(tokens[1])\n",
    "        stock_prices[date] = price\n",
    "print(stock_prices)\n",
    "print(stock_prices[\"march 9\"])"
   ]
  },
  {
   "cell_type": "code",
   "execution_count": 7,
   "id": "0b91860b-6bd9-4d8f-8121-0706d4f8214e",
   "metadata": {},
   "outputs": [
    {
     "name": "stdout",
     "output_type": "stream",
     "text": [
      "55\n"
     ]
    }
   ],
   "source": [
    "#Creating a hash function\n",
    "\n",
    "def getHash(key):\n",
    "    sum = 0\n",
    "    for char in key:\n",
    "        sum += ord(char)\n",
    "    return sum % 100\n",
    "print(getHash(\"march 22\"))"
   ]
  },
  {
   "cell_type": "code",
   "execution_count": 9,
   "id": "12ef781b-bfff-4a13-8e01-611de200299d",
   "metadata": {},
   "outputs": [
    {
     "name": "stdout",
     "output_type": "stream",
     "text": [
      "[None, None, None, None, 20, None, None, None, None, 130, None, None, None, None, None, None, None, None, None, None, None, None, None, None, None, None, None, None, None, None, None, None, None, None, None, None, 20, None, None, None, None, None, None, None, None, None, None, None, None, None, None, None, None, None, None, None, None, None, None, None, None, None, None, None, None, None, None, None, None, None, None, None, None, None, None, None, None, None, None, None, None, None, None, None, None, None, None, None, None, None, None, None, None, None, None, None, None, None, None, None]\n"
     ]
    }
   ],
   "source": [
    "\n",
    "# Define a class HashTable\n",
    "class HashTable:\n",
    "    # Constructor method to initialize the hash table\n",
    "    def __init__(self):\n",
    "        # Define the maximum size of the hash table\n",
    "        self.MAX = 10\n",
    "        # Create an array (list) of size self.MAX and initialize all elements to None\n",
    "        self.array = [None for i in range(self.MAX)]\n",
    "\n",
    "    # Method to calculate the hash value for a given key\n",
    "    def getHash(self, key):\n",
    "        # Initialize a variable to store the sum of ASCII values of characters in the key\n",
    "        s = 0\n",
    "        # Iterate over each character in the key\n",
    "        for char in key:\n",
    "            # Add the ASCII value of the character to the sum\n",
    "            s += ord(char)\n",
    "        # Return the sum modulo the maximum size of the hash table\n",
    "        return s % self.MAX\n",
    "\n",
    "    # Method to insert a key-value pair into the hash table\n",
    "    def __setitem__(self, key, val):\n",
    "        # Calculate the hash value for the given key\n",
    "        h = self.getHash(key)\n",
    "        # Store the value at the index corresponding to the hash value in the array\n",
    "        self.array[h] = val\n",
    "\n",
    "    # Method to retrieve a value from the hash table using a key\n",
    "    def __getitem__(self, key):\n",
    "        # Calculate the hash value for the given key\n",
    "        h = self.getHash(key)\n",
    "        # Return the value stored at the index corresponding to the hash value in the array\n",
    "        return self.array[h]\n",
    "\n",
    "    # Method to delete a key-value pair from the hash table using a key\n",
    "    def __delitem__(self, key):\n",
    "        # Calculate the hash value for the given key\n",
    "        h = self.getHash(key)\n",
    "        # Set the value at the index corresponding to the hash value to None\n",
    "        self.array[h] = None\n",
    "\n",
    "\n",
    "# Create an instance of the HashTable class\n",
    "t = HashTable()\n",
    "# Insert key-value pairs into the hash table\n",
    "t[\"march 6\"] = 130\n",
    "t[\"march 1\"] = 20\n",
    "t[\"dec 17\"] = 20\n",
    "\n",
    "# Delete the key-value pair with the key \"march 6\"\n",
    "del t[\"march 6\"]\n",
    "\n",
    "# Print the internal array of the hash table\n",
    "print(t.array)\n"
   ]
  },
  {
   "cell_type": "code",
   "execution_count": null,
   "id": "d947e729-246e-4dc4-9916-4fa7a0721311",
   "metadata": {},
   "outputs": [],
   "source": []
  }
 ],
 "metadata": {
  "kernelspec": {
   "display_name": "Python 3 (ipykernel)",
   "language": "python",
   "name": "python3"
  },
  "language_info": {
   "codemirror_mode": {
    "name": "ipython",
    "version": 3
   },
   "file_extension": ".py",
   "mimetype": "text/x-python",
   "name": "python",
   "nbconvert_exporter": "python",
   "pygments_lexer": "ipython3",
   "version": "3.11.7"
  }
 },
 "nbformat": 4,
 "nbformat_minor": 5
}
