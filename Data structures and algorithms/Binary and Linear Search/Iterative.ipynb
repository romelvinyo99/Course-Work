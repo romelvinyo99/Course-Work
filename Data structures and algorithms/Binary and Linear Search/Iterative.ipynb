{
 "cells": [
  {
   "cell_type": "code",
   "execution_count": null,
   "id": "764f6e56-5dab-4c82-ac88-c4b058c08b09",
   "metadata": {},
   "outputs": [],
   "source": [
    "def linearSearch(number_list, number_search):\n",
    "    for index, value in enumerate(number_list):\n",
    "        if value == number_search:\n",
    "            return index\n",
    "    return -1\n",
    "\n",
    "\n",
    "def binarySearch(number_list, number_search):\n",
    "    left_index = 0\n",
    "    right_index = len(number_list) - 1\n",
    "    mid_index = 0\n",
    "    while left_index <= right_index:\n",
    "        mid_index = (left_index + right_index) // 2\n",
    "        mid_number = number_list[mid_index]\n",
    "        if mid_number == number_search:\n",
    "            return mid_index\n",
    "        if mid_number < number_search:\n",
    "            left_index = mid_index + 1\n",
    "        if mid_number > number_search:\n",
    "            right_index = mid_index - 1\n",
    "    return -1\n",
    "\n",
    "\n",
    "if __name__ == \"__main__\":\n",
    "    number_list_elements = [12, 15, 17, 19, 21, 24, 45, 67]\n",
    "    number_to_find = 45\n",
    "    index_of_number_to_find = linearSearch(number_list_elements, number_to_find)\n",
    "    print(index_of_number_to_find)\n",
    "    index_of_number_to_find = binarySearch(number_list_elements, number_to_find)\n",
    "    print(index_of_number_to_find)\n"
   ]
  }
 ],
 "metadata": {
  "kernelspec": {
   "display_name": "Python 3 (ipykernel)",
   "language": "python",
   "name": "python3"
  },
  "language_info": {
   "codemirror_mode": {
    "name": "ipython",
    "version": 3
   },
   "file_extension": ".py",
   "mimetype": "text/x-python",
   "name": "python",
   "nbconvert_exporter": "python",
   "pygments_lexer": "ipython3",
   "version": "3.11.7"
  }
 },
 "nbformat": 4,
 "nbformat_minor": 5
}
