{
 "cells": [
  {
   "cell_type": "code",
   "execution_count": null,
   "id": "a81a3bf2-1862-483d-b0bf-c5c234daf2b4",
   "metadata": {},
   "outputs": [],
   "source": [
    "import time\n",
    "\n",
    "\n",
    "def timeit(func):\n",
    "    def wrapper(*args, **kwargs):\n",
    "        start = time.time()\n",
    "        result = func(*args, **kwargs)\n",
    "        end = time.time()\n",
    "        print(f\"{func.__name__} took {((end - start) * 1000):.3f} milliseconds\")\n",
    "        return result\n",
    "\n",
    "    return wrapper\n",
    "\n",
    "\n",
    "@timeit\n",
    "def linearSearch(number_list, number_search):\n",
    "    for index, value in enumerate(number_list):\n",
    "        if value == number_search:\n",
    "            return index\n",
    "    return -1\n",
    "\n",
    "\n",
    "@timeit\n",
    "def binarySearchRecursive(number_list, number_search, left_index, right_index):\n",
    "    return binarySearchRecursiveHelper(number_list, number_search, left_index, right_index)\n",
    "\n",
    "\n",
    "def binarySearchRecursiveHelper(number_list, number_search, left_index, right_index):\n",
    "    # invalid index\n",
    "    if right_index < left_index:\n",
    "        return -1\n",
    "\n",
    "    mid_index = (left_index + right_index) // 2\n",
    "    if mid_index > len(number_list) or mid_index < 0:\n",
    "        return -1\n",
    "    mid_number = number_list[mid_index]\n",
    "\n",
    "    if mid_number == number_search:\n",
    "        return mid_index\n",
    "    if mid_number < number_search:\n",
    "        return binarySearchRecursive(number_list, number_search, mid_index + 1, right_index)\n",
    "    if mid_number > number_search:\n",
    "        return binarySearchRecursive(number_list, number_search, left_index, mid_index - 1)\n",
    "\n",
    "\n",
    "if __name__ == \"__main__\":\n",
    "    number_list_elements = [12, 15, 17, 19, 21, 24, 45]\n",
    "    number_to_find = 15\n",
    "    index_of_number_to_find = linearSearch(number_list_elements, number_to_find)\n",
    "    print(index_of_number_to_find)\n",
    "\n",
    "    index_of_number_to_find = binarySearchRecursiveHelper(number_list_elements, number_to_find,\n",
    "                                                          right_index=len(number_list_elements) - 1, left_index=0)\n",
    "    print(index_of_number_to_find)\n"
   ]
  }
 ],
 "metadata": {
  "kernelspec": {
   "display_name": "Python 3 (ipykernel)",
   "language": "python",
   "name": "python3"
  },
  "language_info": {
   "codemirror_mode": {
    "name": "ipython",
    "version": 3
   },
   "file_extension": ".py",
   "mimetype": "text/x-python",
   "name": "python",
   "nbconvert_exporter": "python",
   "pygments_lexer": "ipython3",
   "version": "3.11.7"
  }
 },
 "nbformat": 4,
 "nbformat_minor": 5
}
