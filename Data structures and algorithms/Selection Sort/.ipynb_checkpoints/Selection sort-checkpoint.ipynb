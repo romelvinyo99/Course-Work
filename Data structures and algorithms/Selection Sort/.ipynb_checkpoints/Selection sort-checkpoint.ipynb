{
 "cells": [
  {
   "cell_type": "code",
   "execution_count": null,
   "id": "6618ff4d-f7bd-42cd-9c2c-21a1f8eea904",
   "metadata": {},
   "outputs": [],
   "source": [
    "def selectionSort(elements):\n",
    "    size = len(elements)\n",
    "    for i in range(size-1):\n",
    "        min_index = i\n",
    "        for j in range(min_index + 1, size):\n",
    "            if elements[j] < elements[min_index]:\n",
    "                min_index = j\n",
    "        if i != min_index:\n",
    "            elements[i], elements[min_index] = elements[min_index], elements[i]\n",
    "\n",
    "\n",
    "if __name__ == \"__main__\":\n",
    "    a = [78, 12, 15, 3]\n",
    "    selectionSort(a)\n",
    "    print(a)\n"
   ]
  }
 ],
 "metadata": {
  "kernelspec": {
   "display_name": "Python 3 (ipykernel)",
   "language": "python",
   "name": "python3"
  },
  "language_info": {
   "codemirror_mode": {
    "name": "ipython",
    "version": 3
   },
   "file_extension": ".py",
   "mimetype": "text/x-python",
   "name": "python",
   "nbconvert_exporter": "python",
   "pygments_lexer": "ipython3",
   "version": "3.11.7"
  }
 },
 "nbformat": 4,
 "nbformat_minor": 5
}
