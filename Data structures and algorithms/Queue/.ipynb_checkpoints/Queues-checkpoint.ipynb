{
 "cells": [
  {
   "cell_type": "raw",
   "id": "7a98afec-5d1b-460f-8a43-8293a13f85d5",
   "metadata": {},
   "source": [
    "FIFO - first in first out "
   ]
  },
  {
   "cell_type": "code",
   "execution_count": null,
   "id": "e11602fa-241e-48d5-8b67-31c2ba098686",
   "metadata": {},
   "outputs": [],
   "source": [
    "\"\"\"\n",
    "Implementation of queue using list\n",
    "issue - dynamic memory allocation\n",
    "\"\"\"\n",
    "prices = []\n",
    "for i in range(1, 6):\n",
    "    # inserting at the first index\n",
    "    prices.appendLeft(i)\n",
    "\n",
    "print(prices)\n",
    "\n",
    "for i in range(len(prices)):\n",
    "    # The first value to be inserted goes out first\n",
    "    print(prices.pop())\n",
    "\n",
    "print(prices)"
   ]
  },
  {
   "cell_type": "code",
   "execution_count": null,
   "id": "58690460-b29d-4725-91a4-af93f9083188",
   "metadata": {},
   "outputs": [],
   "source": [
    "\"\"\"\n",
    "Implementation of a queue using dequeue\n",
    "pro - solve the dynamic memory allocation issue\n",
    "\"\"\"\n",
    "from collections import deque\n",
    "\n",
    "q = deque()\n",
    "\n",
    "for i in range(1, 6):\n",
    "    q.appendleft(i)\n",
    "\n",
    "print(q)\n",
    "\n",
    "for i in range(len(q)):\n",
    "    print(q.pop())\n",
    "\n",
    "print(q)\n"
   ]
  },
  {
   "cell_type": "code",
   "execution_count": 1,
   "id": "5f38ea93-b9af-4984-ba66-3fce0419528d",
   "metadata": {},
   "outputs": [
    {
     "name": "stdout",
     "output_type": "stream",
     "text": [
      "deque([{'company': 'walmart', 'timestamp': '15 apr, 11:10 AM', 'price': 133}, {'company': 'walmart', 'timestamp': '15 apr, 11:10 AM', 'price': 132}, {'company': 'walmart', 'timestamp': '15 apr, 11:10 AM', 'price': 131}])\n",
      "{'company': 'walmart', 'timestamp': '15 apr, 11:10 AM', 'price': 131}\n",
      "{'company': 'walmart', 'timestamp': '15 apr, 11:10 AM', 'price': 132}\n",
      "deque([{'company': 'walmart', 'timestamp': '15 apr, 11:10 AM', 'price': 133}])\n"
     ]
    }
   ],
   "source": [
    "# class queue implementation\n",
    "\n",
    "from collections import deque\n",
    "\n",
    "\n",
    "class Queue:\n",
    "    def __init__(self):\n",
    "        self.data = deque()\n",
    "\n",
    "    def add(self, value):\n",
    "        self.data.appendleft(value)\n",
    "\n",
    "    def remove(self):\n",
    "        return self.data.pop()\n",
    "\n",
    "    def size(self):\n",
    "        return len(self.data)\n",
    "\n",
    "\n",
    "q = Queue()\n",
    "\n",
    "q.add({\n",
    "    \"company\": \"walmart\",\n",
    "    \"timestamp\": \"15 apr, 11:10 AM\",\n",
    "    \"price\": 131\n",
    "})\n",
    "q.add({\n",
    "    \"company\": \"walmart\",\n",
    "    \"timestamp\": \"15 apr, 11:10 AM\",\n",
    "    \"price\": 132\n",
    "})\n",
    "q.add({\n",
    "    \"company\": \"walmart\",\n",
    "    \"timestamp\": \"15 apr, 11:10 AM\",\n",
    "    \"price\": 133\n",
    "})\n",
    "\n",
    "print(q.data)\n",
    "\n",
    "for i in range(len(q.data)-1):\n",
    "    print(q.remove())\n",
    "\n",
    "print(q.data)"
   ]
  },
  {
   "cell_type": "code",
   "execution_count": null,
   "id": "d9f09092-0cc3-4950-8acb-b7765ffe767b",
   "metadata": {},
   "outputs": [],
   "source": []
  }
 ],
 "metadata": {
  "kernelspec": {
   "display_name": "Python 3 (ipykernel)",
   "language": "python",
   "name": "python3"
  },
  "language_info": {
   "codemirror_mode": {
    "name": "ipython",
    "version": 3
   },
   "file_extension": ".py",
   "mimetype": "text/x-python",
   "name": "python",
   "nbconvert_exporter": "python",
   "pygments_lexer": "ipython3",
   "version": "3.11.7"
  }
 },
 "nbformat": 4,
 "nbformat_minor": 5
}
