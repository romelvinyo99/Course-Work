{
 "cells": [
  {
   "cell_type": "code",
   "execution_count": 4,
   "id": "f59c4eeb-3b48-4576-b177-ffa1458db22f",
   "metadata": {},
   "outputs": [
    {
     "data": {
      "text/plain": [
       "[3, 4, 10]"
      ]
     },
     "execution_count": 4,
     "metadata": {},
     "output_type": "execute_result"
    }
   ],
   "source": [
    "def bubblesort(elements):\n",
    "    length = len(elements) - 1\n",
    "    sort = False\n",
    "    while not sort:\n",
    "        sort = True\n",
    "        for index in range(length):\n",
    "            if elements[index] > elements[index+1]:\n",
    "                sort = False\n",
    "                elements[index], elements[index + 1] = elements[index + 1], elements[index]\n",
    "        length -= 1\n",
    "    return elements\n",
    "\n",
    "a = [3, 10, 4]\n",
    "bubblesort(a)"
   ]
  }
 ],
 "metadata": {
  "kernelspec": {
   "display_name": "Python 3 (ipykernel)",
   "language": "python",
   "name": "python3"
  },
  "language_info": {
   "codemirror_mode": {
    "name": "ipython",
    "version": 3
   },
   "file_extension": ".py",
   "mimetype": "text/x-python",
   "name": "python",
   "nbconvert_exporter": "python",
   "pygments_lexer": "ipython3",
   "version": "3.11.7"
  }
 },
 "nbformat": 4,
 "nbformat_minor": 5
}
