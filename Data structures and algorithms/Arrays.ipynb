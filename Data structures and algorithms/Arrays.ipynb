{
 "cells": [
  {
   "cell_type": "code",
   "execution_count": 39,
   "id": "74c4e370-6a32-4053-be8b-8cc789b81cac",
   "metadata": {},
   "outputs": [],
   "source": [
    "prices = [298, 305, 320]"
   ]
  },
  {
   "cell_type": "code",
   "execution_count": 40,
   "id": "9707a873-d9f9-4dc1-afdf-b8741c3d0bb9",
   "metadata": {},
   "outputs": [
    {
     "data": {
      "text/plain": [
       "'\\nindex lookup  = O(1) - One time execution\\n'"
      ]
     },
     "execution_count": 40,
     "metadata": {},
     "output_type": "execute_result"
    }
   ],
   "source": [
    "#Scenario 1: What is the price on day 3\n",
    "prices[2]\n",
    "\"\"\"\n",
    "index lookup  = O(1) - One time execution\n",
    "\"\"\""
   ]
  },
  {
   "cell_type": "code",
   "execution_count": 41,
   "id": "f8de43e1-b7bf-4c6f-ae6f-aaebc81047c5",
   "metadata": {},
   "outputs": [
    {
     "data": {
      "text/plain": [
       "'\\nLookup by value = O(n) - Iteration\\n'"
      ]
     },
     "execution_count": 41,
     "metadata": {},
     "output_type": "execute_result"
    }
   ],
   "source": [
    "#Scenarion 2: On what day was 301\n",
    "for i in range(len(prices)):\n",
    "    if prices[i] == 301:\n",
    "        print(i)\n",
    "\"\"\"\n",
    "Lookup by value = O(n) - Iteration\n",
    "\"\"\""
   ]
  },
  {
   "cell_type": "code",
   "execution_count": 42,
   "id": "b1dc1c55-bf3c-44fe-8d90-5a7bd090270b",
   "metadata": {},
   "outputs": [
    {
     "name": "stdout",
     "output_type": "stream",
     "text": [
      "298\n",
      "305\n",
      "320\n"
     ]
    },
    {
     "data": {
      "text/plain": [
       "'\\nPrinting all the values = O(n) - Iteration\\n'"
      ]
     },
     "execution_count": 42,
     "metadata": {},
     "output_type": "execute_result"
    }
   ],
   "source": [
    "#Scenario 3: Print all the prices\n",
    "for price in prices:\n",
    "    print(price)\n",
    "\"\"\"\n",
    "Printing all the values = O(n) - Iteration\n",
    "\"\"\""
   ]
  },
  {
   "cell_type": "code",
   "execution_count": 43,
   "id": "8685da98-9e72-4ba4-8abc-f9bb92911a4b",
   "metadata": {},
   "outputs": [
    {
     "data": {
      "text/plain": [
       "'\\nValue of new insertion - O(n)\\nThis is because we have to refactor the index of the n values(wrapping around)\\n'"
      ]
     },
     "execution_count": 43,
     "metadata": {},
     "output_type": "execute_result"
    }
   ],
   "source": [
    "#Scenario 4: Insertion of new price at index 1\n",
    "prices.insert(1, 300)\n",
    "\"\"\"\n",
    "Value of new insertion - O(n)\n",
    "This is because we have to refactor the index of the n values(wrapping around)\n",
    "\"\"\""
   ]
  },
  {
   "cell_type": "code",
   "execution_count": 44,
   "id": "4a28b309-4c0c-4f8e-9e8c-d266c656545a",
   "metadata": {},
   "outputs": [
    {
     "name": "stdout",
     "output_type": "stream",
     "text": [
      "[298, 300, 305, 320]\n"
     ]
    }
   ],
   "source": [
    "print(prices)"
   ]
  },
  {
   "cell_type": "code",
   "execution_count": 45,
   "id": "bf370a44-6fad-4922-9ead-b592f0450c70",
   "metadata": {},
   "outputs": [
    {
     "data": {
      "text/plain": [
       "'\\nValue of new insertion - O(n)\\nReverse wrap around\\n'"
      ]
     },
     "execution_count": 45,
     "metadata": {},
     "output_type": "execute_result"
    }
   ],
   "source": [
    "#Scenario 5: Value deletion at index 1\n",
    "prices.remove(300)\n",
    "\"\"\"\n",
    "Value of new insertion - O(n)\n",
    "Reverse wrap around\n",
    "\"\"\""
   ]
  },
  {
   "cell_type": "code",
   "execution_count": 46,
   "id": "592c8f78-9ff4-489e-94da-8a09449f1623",
   "metadata": {},
   "outputs": [],
   "source": [
    "#Dimensional arrays examples\n",
    "\n",
    "#1D\n",
    "number = [1, 2, 3]\n",
    "#2D\n",
    "number = [[1, 2, 3], [4, 5, 6]]\n",
    "#3D\n",
    "number = [[[1, 2, 3], [4, 5, 6]],[[1, 2, 3], [4, 5, 6]]]"
   ]
  },
  {
   "cell_type": "raw",
   "id": "f9e7c2a4-a4b7-40a4-b3b0-0947e564101b",
   "metadata": {},
   "source": [
    "ASSIGNMENT"
   ]
  },
  {
   "cell_type": "code",
   "execution_count": 47,
   "id": "edd42a7e-c24f-4f13-bc5e-d2442f9e0eec",
   "metadata": {},
   "outputs": [],
   "source": [
    "expenses = [\n",
    "    (\"January\", 2200),\n",
    "    (\"February\", 2350),\n",
    "    (\"March\", 2600),\n",
    "    (\"April\", 2130),\n",
    "    (\"May\", 2190)\n",
    "]"
   ]
  },
  {
   "cell_type": "code",
   "execution_count": 48,
   "id": "84642992-0369-4133-ae3a-b0d956387226",
   "metadata": {},
   "outputs": [
    {
     "data": {
      "text/plain": [
       "150"
      ]
     },
     "execution_count": 48,
     "metadata": {},
     "output_type": "execute_result"
    }
   ],
   "source": [
    "#Question 1 - In Feb how many dollars you spend extra compared to January\n",
    "difference = expenses[1][1] - expenses[0][1]\n",
    "difference"
   ]
  },
  {
   "cell_type": "code",
   "execution_count": 49,
   "id": "3ad84aac-859a-484b-94b4-ad50a1da3335",
   "metadata": {},
   "outputs": [
    {
     "name": "stdout",
     "output_type": "stream",
     "text": [
      "7150\n"
     ]
    }
   ],
   "source": [
    "#Question 2 - Find the total for the first three months\n",
    "total = 0\n",
    "for index, (month, expense) in enumerate(expenses):\n",
    "    if index < 3:\n",
    "        total += expense\n",
    "    else:\n",
    "        break\n",
    "print(total)       "
   ]
  },
  {
   "cell_type": "code",
   "execution_count": 50,
   "id": "138b0f43-0f93-4003-a42c-79435b2293e6",
   "metadata": {},
   "outputs": [
    {
     "name": "stdout",
     "output_type": "stream",
     "text": [
      "No\n",
      "No\n",
      "No\n",
      "No\n",
      "No\n"
     ]
    }
   ],
   "source": [
    "#Question 3 - Find out if you spent exactly 2000 in any month\n",
    "for index, (month, expense) in enumerate(expenses):\n",
    "    if expense == 2000:\n",
    "        print(f\"Yes - month => {month}\")\n",
    "    else:\n",
    "        print(\"No\")  "
   ]
  },
  {
   "cell_type": "code",
   "execution_count": 51,
   "id": "b5d21366-7d24-4b1d-b4e0-da71d7b11124",
   "metadata": {},
   "outputs": [
    {
     "name": "stdout",
     "output_type": "stream",
     "text": [
      "[('January', 2200), ('February', 2350), ('March', 2600), ('April', 2130), ('May', 2190), ('June', 1980)]\n"
     ]
    }
   ],
   "source": [
    "#Question 4 - Add the month of june expense = 1980 dollars\n",
    "expenses.append((\"June\", 1980))\n",
    "print(expenses)"
   ]
  },
  {
   "cell_type": "code",
   "execution_count": 54,
   "id": "c059ae39-15ce-4498-81ca-91486cded03f",
   "metadata": {},
   "outputs": [
    {
     "name": "stdout",
     "output_type": "stream",
     "text": [
      "[('January', 2200), ('February', 2350), ('March', 2600), ('April', 1930), ('May', 2190), ('June', 1980)]\n"
     ]
    }
   ],
   "source": [
    "updated_april = (\"April\", expenses[3][1] - 200)\n",
    "expenses[3] = updated_april\n",
    "print(expenses)"
   ]
  },
  {
   "cell_type": "code",
   "execution_count": null,
   "id": "6d897d0f-3a91-4fa1-9eed-ec38359c93b0",
   "metadata": {},
   "outputs": [],
   "source": []
  }
 ],
 "metadata": {
  "kernelspec": {
   "display_name": "Python 3 (ipykernel)",
   "language": "python",
   "name": "python3"
  },
  "language_info": {
   "codemirror_mode": {
    "name": "ipython",
    "version": 3
   },
   "file_extension": ".py",
   "mimetype": "text/x-python",
   "name": "python",
   "nbconvert_exporter": "python",
   "pygments_lexer": "ipython3",
   "version": "3.11.7"
  }
 },
 "nbformat": 4,
 "nbformat_minor": 5
}
