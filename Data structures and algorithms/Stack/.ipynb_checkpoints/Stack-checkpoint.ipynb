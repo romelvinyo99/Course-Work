{
 "cells": [
  {
   "cell_type": "raw",
   "id": "5b552f81-e60a-402f-aa9a-988d16c2ab8d",
   "metadata": {},
   "source": [
    "STACK"
   ]
  },
  {
   "cell_type": "code",
   "execution_count": null,
   "id": "87dd0a85-9383-4c24-bb0c-4d583faaa4b4",
   "metadata": {},
   "outputs": [],
   "source": [
    "\"\"\"\n",
    "Implementing a stack using a list\n",
    "But there is a problem - a list is a dynamic array\n",
    "This means anytime you append a new element\n",
    "There is no enough space hence it copies the elements to a new memory location \n",
    "capacity = capacity * 2 + capacity\n",
    "This is not efficient when it comes to memory(RAM)\n",
    "\"\"\"\n",
    "numbers = []\n",
    "for i in range(1, 6):\n",
    "    numbers.append(i)\n",
    "\n",
    "print(numbers)\n",
    "\n",
    "print(numbers.pop())\n",
    "\n",
    "print(numbers)\n"
   ]
  },
  {
   "cell_type": "code",
   "execution_count": null,
   "id": "93f3565e-a011-4385-bb21-459737fe855a",
   "metadata": {},
   "outputs": [],
   "source": [
    "\"\"\"\n",
    "Implementation of a stack using deque\n",
    "This combats the issue of dynamic memory allocation\n",
    "\"\"\"\n",
    "from collections import deque\n",
    "\n",
    "stack = deque()\n",
    "for i in range(1, 6):\n",
    "    stack.append(i)\n",
    "\n",
    "print(stack)\n",
    "\n",
    "for i in range(1, 6):\n",
    "    stack.pop()\n",
    "    print(stack)\n",
    "print(stack)\n"
   ]
  },
  {
   "cell_type": "code",
   "execution_count": null,
   "id": "945c7324-d53c-417b-a51b-3dbad8b059a2",
   "metadata": {},
   "outputs": [],
   "source": [
    "# Class implementation of stack\n",
    "from collections import deque\n",
    "\n",
    "\n",
    "class Stack:\n",
    "    def __init__(self):\n",
    "        # creating a stack container\n",
    "        self.data = deque()\n",
    "    # adding the values\n",
    "    def append(self, data):\n",
    "        self.data.append(data)\n",
    "    #deletion of last element\n",
    "    def pop(self):\n",
    "        return self.pop()\n",
    "    # checking the length of the stack\n",
    "    def size(self):\n",
    "        return len(self.data)\n",
    "    # getting a look at the last element without deleting it\n",
    "    def peek(self):\n",
    "        return self.data[-1]\n",
    "\n",
    "\n",
    "s = Stack()\n",
    "for i in range(1, 5):\n",
    "    s.append(i)\n",
    "\n",
    "print(s.peek())\n"
   ]
  }
 ],
 "metadata": {
  "kernelspec": {
   "display_name": "Python 3 (ipykernel)",
   "language": "python",
   "name": "python3"
  },
  "language_info": {
   "codemirror_mode": {
    "name": "ipython",
    "version": 3
   },
   "file_extension": ".py",
   "mimetype": "text/x-python",
   "name": "python",
   "nbconvert_exporter": "python",
   "pygments_lexer": "ipython3",
   "version": "3.11.7"
  }
 },
 "nbformat": 4,
 "nbformat_minor": 5
}
